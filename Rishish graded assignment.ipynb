{
  "metadata": {
    "language_info": {
      "codemirror_mode": {
        "name": "python",
        "version": 3
      },
      "file_extension": ".py",
      "mimetype": "text/x-python",
      "name": "python",
      "nbconvert_exporter": "python",
      "pygments_lexer": "ipython3",
      "version": "3.8"
    },
    "kernelspec": {
      "name": "python",
      "display_name": "Pyolite",
      "language": "python"
    }
  },
  "nbformat_minor": 4,
  "nbformat": 4,
  "cells": [
    {
      "cell_type": "markdown",
      "source": "# My Jupyter Notebook on IBM Watson Studio",
      "metadata": {}
    },
    {
      "cell_type": "markdown",
      "source": "**RISHISH S.** <br>\nCEO, LABS",
      "metadata": {
        "tags": []
      }
    },
    {
      "cell_type": "markdown",
      "source": "*Data science is a magic what converts numbers into predicting correct demands or profits or developing tools which can do wonders to mankind. It can find hidden gems or analytics which are hidden but valuable. It can take researches to next level by optimizing resources requirements & developing complex correleations.*",
      "metadata": {}
    },
    {
      "cell_type": "markdown",
      "source": "### This code will help in finding square root of given whole numbers",
      "metadata": {}
    },
    {
      "cell_type": "code",
      "source": "y= 121\nimport math\nmath.sqrt(y)",
      "metadata": {
        "trusted": true
      },
      "execution_count": 9,
      "outputs": [
        {
          "execution_count": 9,
          "output_type": "execute_result",
          "data": {
            "text/plain": "11.0"
          },
          "metadata": {}
        }
      ]
    },
    {
      "cell_type": "markdown",
      "source": "##### BLOCKEDQUOTES\n> She is a beautiful person\n\n##### NUMBERED LIST\n1. She is smart\n2. She is beautiful\n\n##### BULLETS\n-  He is intelligent \n-  He is curious\n\n##### HYPERLINK\n__[CLICK TO OPEN SEARCH ENGINE](https://www.google.co.in)__",
      "metadata": {}
    },
    {
      "cell_type": "code",
      "source": "",
      "metadata": {},
      "execution_count": null,
      "outputs": []
    }
  ]
}